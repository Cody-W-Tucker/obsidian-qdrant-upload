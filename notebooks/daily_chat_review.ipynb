{
 "cells": [
  {
   "cell_type": "code",
   "execution_count": 16,
   "metadata": {},
   "outputs": [
    {
     "name": "stdout",
     "output_type": "stream",
     "text": [
      "1639 docs loaded with a total of 627,363 words.\n"
     ]
    }
   ],
   "source": [
    "from langchain_community.document_loaders import JSONLoader\n",
    "from typing import List, Dict\n",
    "\n",
    "def extract_metadata(record: dict, metadata: dict) -> dict:\n",
    "\n",
    "        metadata[\"id\"] = record.get(\"id\", \"\"),\n",
    "        metadata[\"parentId\"] = record.get(\"parentId\", \"\"),\n",
    "        metadata[\"role\"] = record.get(\"role\", \"\"),\n",
    "        metadata[\"modelName\"] = record.get(\"modelName\") or record.get(\"model\", \"\")\n",
    "        metadata[\"timestamp\"] = record.get(\"timestamp\", \"\")\n",
    "\n",
    "        return metadata\n",
    "\n",
    "# Create the loader\n",
    "loader = JSONLoader(\n",
    "    file_path='../data/open-webui/open-webui-chat-export.json',\n",
    "    text_content=False,\n",
    "    json_lines=True,\n",
    "    is_content_key_jq_parsable=True,\n",
    "    content_key='.content',\n",
    "    jq_schema='.[].chat.messages[]',\n",
    "    metadata_func=extract_metadata\n",
    ")\n",
    "\n",
    "# Load the documents\n",
    "docs = loader.load()\n",
    "\n",
    "# Calculate the number of words total for all docs\n",
    "total_words = sum(len(doc.page_content.split()) for doc in docs)\n",
    "\n",
    "print(f\"{len(docs)} docs loaded with a total of {total_words:,} words.\")"
   ]
  },
  {
   "cell_type": "code",
   "execution_count": 17,
   "metadata": {},
   "outputs": [],
   "source": [
    "from datetime import datetime\n",
    "from collections import defaultdict\n",
    "import os\n",
    "\n",
    "def get_date_from_timestamp(timestamp):\n",
    "    date_obj = datetime.fromtimestamp(timestamp)\n",
    "    return date_obj.strftime('%Y-%m-%d')\n",
    "\n",
    "def get_folder_structure_and_filename(date):\n",
    "    date_obj = datetime.strptime(date, '%Y-%m-%d')\n",
    "    year = date_obj.strftime('%Y')\n",
    "    month_num = date_obj.strftime('%m')\n",
    "    month_name = date_obj.strftime('%B')\n",
    "    day_name = date_obj.strftime('%A')\n",
    "    \n",
    "    folder_path = os.path.join(year, f\"{month_num}-{month_name}\")\n",
    "    filename = f\"{date}-{day_name}.md\"\n",
    "    return folder_path, filename\n",
    "\n",
    "def format_daily_content(docs_for_date):\n",
    "    content = []\n",
    "    for doc in docs_for_date:\n",
    "        timestamp = doc.metadata.get('timestamp')\n",
    "        time_str = datetime.fromtimestamp(timestamp).strftime('%H:%M:%S')\n",
    "        content.append(f\"### Time: {time_str}\")\n",
    "        content.append(f\"**Role:** {doc.metadata['role']}\")\n",
    "        content.append(f\"**Content:** {doc.page_content}\")\n",
    "        content.append(\"\\n---\\n\")  # Markdown separator\n",
    "    return \"\\n\".join(content)\n",
    "\n",
    "def save_daily_journal(docs):\n",
    "    base_folder = \"/home/codyt/Documents/Personal/Journal\"\n",
    "    \n",
    "    daily_groups = defaultdict(list)\n",
    "    for doc in docs:\n",
    "        timestamp = doc.metadata.get('timestamp')\n",
    "        if timestamp and isinstance(timestamp, (int, float)):\n",
    "            date = get_date_from_timestamp(timestamp)\n",
    "            daily_groups[date].append(doc)\n",
    "    \n",
    "    for date, docs_for_date in daily_groups.items():\n",
    "        folder_structure, filename = get_folder_structure_and_filename(date)\n",
    "        full_folder_path = os.path.join(base_folder, folder_structure)\n",
    "        os.makedirs(full_folder_path, exist_ok=True)\n",
    "        \n",
    "        file_path = os.path.join(full_folder_path, filename)\n",
    "        content = format_daily_content(docs_for_date)\n",
    "        \n",
    "        with open(file_path, \"a\") as file:\n",
    "            file.write(f\"\\n---\\n\\n# Chat History {date}\\n\\n\")\n",
    "            file.write(content)\n",
    "            file.write(\"\\n\")\n"
   ]
  },
  {
   "cell_type": "code",
   "execution_count": 18,
   "metadata": {},
   "outputs": [],
   "source": [
    "# Save the docs\n",
    "save_daily_journal(docs)"
   ]
  }
 ],
 "metadata": {
  "kernelspec": {
   "display_name": ".venv",
   "language": "python",
   "name": "python3"
  },
  "language_info": {
   "codemirror_mode": {
    "name": "ipython",
    "version": 3
   },
   "file_extension": ".py",
   "mimetype": "text/x-python",
   "name": "python",
   "nbconvert_exporter": "python",
   "pygments_lexer": "ipython3",
   "version": "3.11.10"
  }
 },
 "nbformat": 4,
 "nbformat_minor": 2
}

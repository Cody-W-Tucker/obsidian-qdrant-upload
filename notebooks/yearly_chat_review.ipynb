{
 "cells": [
  {
   "cell_type": "code",
   "execution_count": 36,
   "metadata": {},
   "outputs": [
    {
     "name": "stdout",
     "output_type": "stream",
     "text": [
      "1639 docs loaded with a total of 627,363 words.\n"
     ]
    }
   ],
   "source": [
    "from langchain_community.document_loaders import JSONLoader\n",
    "from typing import List, Dict\n",
    "\n",
    "def extract_metadata(record: dict, metadata: dict) -> dict:\n",
    "\n",
    "        metadata[\"id\"] = record.get(\"id\", \"\"),\n",
    "        metadata[\"parentId\"] = record.get(\"parentId\", \"\"),\n",
    "        metadata[\"role\"] = record.get(\"role\", \"\"),\n",
    "        metadata[\"modelName\"] = record.get(\"modelName\") or record.get(\"model\", \"\")\n",
    "        metadata[\"timestamp\"] = record.get(\"timestamp\", \"\")\n",
    "\n",
    "        return metadata\n",
    "\n",
    "# Create the loader\n",
    "loader = JSONLoader(\n",
    "    file_path='../data/open-webui/open-webui-chat-export.json',\n",
    "    text_content=False,\n",
    "    json_lines=True,\n",
    "    is_content_key_jq_parsable=True,\n",
    "    content_key='.content',\n",
    "    jq_schema='.[].chat.messages[]',\n",
    "    metadata_func=extract_metadata\n",
    ")\n",
    "\n",
    "# Load the documents\n",
    "docs = loader.load()\n",
    "\n",
    "# Calculate the number of words total for all docs\n",
    "total_words = sum(len(doc.page_content.split()) for doc in docs)\n",
    "\n",
    "print(f\"{len(docs)} docs loaded with a total of {total_words:,} words.\")"
   ]
  },
  {
   "cell_type": "code",
   "execution_count": 37,
   "metadata": {},
   "outputs": [
    {
     "name": "stdout",
     "output_type": "stream",
     "text": [
      "<class 'pandas.core.frame.DataFrame'>\n",
      "Index: 1375 entries, 1 to 1638\n",
      "Data columns (total 8 columns):\n",
      " #   Column          Non-Null Count  Dtype         \n",
      "---  ------          --------------  -----         \n",
      " 0   content         1375 non-null   object        \n",
      " 1   id              1375 non-null   object        \n",
      " 2   role            1375 non-null   object        \n",
      " 3   parent_id       1237 non-null   object        \n",
      " 4   model           1375 non-null   object        \n",
      " 5   timestamp       1301 non-null   datetime64[ns]\n",
      " 6   date            1301 non-null   object        \n",
      " 7   content_length  1375 non-null   int64         \n",
      "dtypes: datetime64[ns](1), int64(1), object(6)\n",
      "memory usage: 96.7+ KB\n"
     ]
    }
   ],
   "source": [
    "import pandas as pd\n",
    "\n",
    "# Convert the loaded docs to a DataFrame\n",
    "df = pd.DataFrame([{\n",
    "    'content': doc.page_content,\n",
    "    'id': doc.metadata['id'][0],  # Note: fixing the tuple issue in your metadata\n",
    "    'role': doc.metadata['role'][0],\n",
    "    'parent_id': doc.metadata['parentId'][0],\n",
    "    'model': doc.metadata['modelName'],\n",
    "    'timestamp': doc.metadata['timestamp']\n",
    "} for doc in docs])\n",
    "\n",
    "# Convert the timestamp to datetime assuming they are in Unix epoch format\n",
    "df['timestamp'] = pd.to_datetime(df['timestamp'], unit='s')\n",
    "\n",
    "# Format the timestamp to display only the date\n",
    "df['date'] = df['timestamp'].dt.date\n",
    "\n",
    "# Add content length column\n",
    "df['content_length'] = df['content'].str.len()\n",
    "\n",
    "# Drop rows with a content length of less than 75 characters\n",
    "df = df[df['content_length'] > 75]\n",
    "\n",
    "# Display the DataFrame\n",
    "df.info()"
   ]
  }
 ],
 "metadata": {
  "kernelspec": {
   "display_name": ".venv",
   "language": "python",
   "name": "python3"
  },
  "language_info": {
   "codemirror_mode": {
    "name": "ipython",
    "version": 3
   },
   "file_extension": ".py",
   "mimetype": "text/x-python",
   "name": "python",
   "nbconvert_exporter": "python",
   "pygments_lexer": "ipython3",
   "version": "3.11.10"
  }
 },
 "nbformat": 4,
 "nbformat_minor": 2
}

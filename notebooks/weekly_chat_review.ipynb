{
 "cells": [
  {
   "cell_type": "code",
   "execution_count": 5,
   "metadata": {},
   "outputs": [
    {
     "name": "stdout",
     "output_type": "stream",
     "text": [
      "1639 docs loaded with a total of 627,363 words.\n",
      "{'source': '/home/codyt/Documents/Projects/qdrant-upload/data/open-webui/open-webui-chat-export.json', 'seq_num': 1, 'id': ('d8e6f8ef-12a8-4855-8921-7718bc0df4c3',), 'parentId': (None,), 'role': ('user',), 'modelName': '', 'timestamp': 1728660597}\n"
     ]
    }
   ],
   "source": [
    "from langchain_community.document_loaders import JSONLoader\n",
    "from typing import List, Dict\n",
    "\n",
    "def extract_metadata(record: dict, metadata: dict) -> dict:\n",
    "\n",
    "        metadata[\"id\"] = record.get(\"id\", \"\"),\n",
    "        metadata[\"parentId\"] = record.get(\"parentId\", \"\"),\n",
    "        metadata[\"role\"] = record.get(\"role\", \"\"),\n",
    "        metadata[\"modelName\"] = record.get(\"modelName\") or record.get(\"model\", \"\")\n",
    "        metadata[\"timestamp\"] = record.get(\"timestamp\", \"\")\n",
    "\n",
    "        return metadata\n",
    "\n",
    "# Create the loader\n",
    "loader = JSONLoader(\n",
    "    file_path='../data/open-webui/open-webui-chat-export.json',\n",
    "    text_content=False,\n",
    "    json_lines=True,\n",
    "    is_content_key_jq_parsable=True,\n",
    "    content_key='.content',\n",
    "    jq_schema='.[].chat.messages[]',\n",
    "    metadata_func=extract_metadata\n",
    ")\n",
    "\n",
    "# Load the documents\n",
    "docs = loader.load()\n",
    "\n",
    "# Calculate the number of words total for all docs\n",
    "total_words = sum(len(doc.page_content.split()) for doc in docs)\n",
    "\n",
    "print(f\"{len(docs)} docs loaded with a total of {total_words:,} words.\")"
   ]
  },
  {
   "cell_type": "code",
   "execution_count": 27,
   "metadata": {},
   "outputs": [
    {
     "name": "stdout",
     "output_type": "stream",
     "text": [
      "\n",
      "Available weeks for sampling:\n",
      "- Year 2024, Week 33: 2 messages\n",
      "- Year 2024, Week 35: 20 messages\n",
      "- Year 2024, Week 36: 6 messages\n",
      "- Year 2024, Week 38: 130 messages\n",
      "- Year 2024, Week 39: 125 messages\n",
      "- Year 2024, Week 40: 23 messages\n",
      "- Year 2024, Week 41: 210 messages\n",
      "- Year 2024, Week 42: 124 messages\n",
      "- Year 2024, Week 43: 219 messages\n",
      "- Year 2024, Week 44: 82 messages\n",
      "- Year 2024, Week 45: 92 messages\n",
      "- Year 2024, Week 46: 71 messages\n",
      "- Year 2024, Week 47: 6 messages\n",
      "- Year 2024, Week 48: 40 messages\n",
      "- Year 2024, Week 49: 166 messages\n",
      "- Year 2024, Week 50: 105 messages\n",
      "- Year 2024, Week 51: 106 messages\n",
      "- Year 2024, Week 52: 22 messages\n"
     ]
    }
   ],
   "source": [
    "from datetime import datetime\n",
    "from collections import defaultdict\n",
    "\n",
    "def get_day_from_timestamp(timestamp):\n",
    "    date_obj = datetime.fromtimestamp(timestamp)\n",
    "    return date_obj.strftime('%A')  # Get day name (Monday, Tuesday, etc.)\n",
    "\n",
    "def get_weekly_date_from_timestamp(timestamp):\n",
    "    date_obj = datetime.fromtimestamp(timestamp)\n",
    "    return date_obj.isocalendar()[:2]\n",
    "\n",
    "# Group documents by week and then by day\n",
    "weekly_groups = {}\n",
    "for doc in docs:\n",
    "    timestamp = doc.metadata.get('timestamp')\n",
    "    if timestamp and isinstance(timestamp, (int, float)):\n",
    "        weekly_date = get_weekly_date_from_timestamp(timestamp)\n",
    "        day_of_week = get_day_from_timestamp(timestamp)\n",
    "        \n",
    "        if weekly_date not in weekly_groups:\n",
    "            weekly_groups[weekly_date] = defaultdict(list)\n",
    "        \n",
    "        weekly_groups[weekly_date][day_of_week].append(doc)\n",
    "\n",
    "# Print available weeks\n",
    "print(\"\\nAvailable weeks for sampling:\")\n",
    "for week in sorted(weekly_groups.keys()):\n",
    "    total_messages = sum(len(days) for days in weekly_groups[week].values())\n",
    "    print(f\"- Year {week[0]}, Week {week[1]}: {total_messages} messages\")\n",
    "\n",
    "# Function to print sample from specific week\n",
    "def print_weekly_sample(week):\n",
    "    if week in weekly_groups:\n",
    "        year, week_num = week\n",
    "        print(f\"\\nYear {year}, Week {week_num}\")\n",
    "        \n",
    "        # Print messages grouped by day\n",
    "        for day in ['Monday', 'Tuesday', 'Wednesday', 'Thursday', 'Friday', 'Saturday', 'Sunday']:\n",
    "            if day in weekly_groups[week]:\n",
    "                print(f\"\\n{datetime.fromtimestamp(timestamp)} {day}:\")\n",
    "                print(f\"Number of messages: {len(weekly_groups[week][day])}\")\n",
    "                \n",
    "                for doc in weekly_groups[week][day]:\n",
    "                    print(f\"- Role: {doc.metadata['role']}\")\n",
    "                    print(f\"  Content: {doc.page_content}\\n\")\n",
    "    else:\n",
    "        print(f\"Week {week} not found in the data\")\n"
   ]
  },
  {
   "cell_type": "code",
   "execution_count": null,
   "metadata": {},
   "outputs": [],
   "source": [
    "# Example: view a specific week\n",
    "sample_week = (2024, 35)  # Change these numbers to view different weeks\n",
    "print_weekly_sample(sample_week)"
   ]
  },
  {
   "cell_type": "code",
   "execution_count": null,
   "metadata": {},
   "outputs": [],
   "source": [
    "from datetime import datetime\n",
    "from collections import defaultdict\n",
    "\n",
    "def get_date_from_timestamp(timestamp):\n",
    "    date_obj = datetime.fromtimestamp(timestamp)\n",
    "    return date_obj.strftime('%Y-%m-%d')  # Get date in YYYY-MM-DD format\n",
    "\n",
    "# Group documents by date\n",
    "daily_groups = defaultdict(list)\n",
    "for doc in docs:\n",
    "    timestamp = doc.metadata.get('timestamp')\n",
    "    if timestamp and isinstance(timestamp, (int, float)):\n",
    "        date = get_date_from_timestamp(timestamp)\n",
    "        daily_groups[date].append(doc)\n",
    "\n",
    "# Print available dates\n",
    "print(\"\\nAvailable dates for sampling:\")\n",
    "for date in sorted(daily_groups.keys()):\n",
    "    print(f\"- {date}: {len(daily_groups[date])} messages\")\n",
    "\n",
    "# Function to print sample from specific date\n",
    "def print_daily_sample(date):\n",
    "    if date in daily_groups:\n",
    "        print(f\"\\nDate: {date}\")\n",
    "        print(f\"Number of messages: {len(daily_groups[date])}\")\n",
    "        \n",
    "        for doc in daily_groups[date]:\n",
    "            timestamp = doc.metadata.get('timestamp')\n",
    "            time_str = datetime.fromtimestamp(timestamp).strftime('%H:%M:%S')\n",
    "            print(f\"\\n- Time: {time_str}\")\n",
    "            print(f\"  Role: {doc.metadata['role']}\")\n",
    "            print(f\"  Content: {doc.page_content}\")\n",
    "    else:\n",
    "        print(f\"Date {date} not found in the data\")\n"
   ]
  }
 ],
 "metadata": {
  "kernelspec": {
   "display_name": ".venv",
   "language": "python",
   "name": "python3"
  },
  "language_info": {
   "codemirror_mode": {
    "name": "ipython",
    "version": 3
   },
   "file_extension": ".py",
   "mimetype": "text/x-python",
   "name": "python",
   "nbconvert_exporter": "python",
   "pygments_lexer": "ipython3",
   "version": "3.11.10"
  }
 },
 "nbformat": 4,
 "nbformat_minor": 2
}
